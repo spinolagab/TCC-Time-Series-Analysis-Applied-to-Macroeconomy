{
 "cells": [
  {
   "cell_type": "markdown",
   "id": "502b5409-3a7b-44d9-b35b-ca052bebe73e",
   "metadata": {},
   "source": [
    "# Imports"
   ]
  },
  {
   "cell_type": "code",
   "execution_count": 5,
   "id": "f16bd1da-4eaf-4b27-9cf1-6a5d9c0b360f",
   "metadata": {},
   "outputs": [],
   "source": [
    "import os\n",
    "import requests\n",
    "import json\n",
    "from dotenv import load_dotenv\n",
    "import pandas as pd\n",
    "import matplotlib.pyplot as plt\n",
    "from matplotlib import pyplot\n",
    "\n"
   ]
  },
  {
   "cell_type": "markdown",
   "id": "52865bc4-d0d0-4c81-becc-c6b894528074",
   "metadata": {},
   "source": [
    "# Variáveis"
   ]
  },
  {
   "cell_type": "code",
   "execution_count": 9,
   "id": "8dda3fa5",
   "metadata": {},
   "outputs": [],
   "source": [
    "# Carregar as variáveis de ambiente do arquivo .env\n",
    "load_dotenv()\n",
    "\n",
    "key = os.getenv(\"BLS_API_KEY\")\n",
    "url = os.getenv(\"URL\")"
   ]
  },
  {
   "cell_type": "code",
   "execution_count": 11,
   "id": "31c3b766-bc49-4155-a561-60ecbbcb8682",
   "metadata": {},
   "outputs": [
    {
     "name": "stdout",
     "output_type": "stream",
     "text": [
      "https://api.bls.gov/publicAPI/v2/timeseries/data/5459e1fbbdb744f392048a92b36f6749\n"
     ]
    }
   ],
   "source": [
    "print(url + key)"
   ]
  },
  {
   "cell_type": "code",
   "execution_count": null,
   "id": "13995c30-f982-40ac-946e-793957512f54",
   "metadata": {},
   "outputs": [],
   "source": [
    "headers = {'Content-type': 'application/json'}\n",
    "data = json.dumps({\"seriesid\": ['CUUR0000SA0','SUUR0000SA0'],\"startyear\":\"2011\", \"endyear\":\"2014\"})\n",
    "p = requests.post('https://api.bls.gov/publicAPI/v2/timeseries/data/', data=data, headers=headers)"
   ]
  },
  {
   "cell_type": "markdown",
   "id": "867895c9-f9d2-4a8e-aadf-33a3a673c541",
   "metadata": {},
   "source": []
  }
 ],
 "metadata": {
  "kernelspec": {
   "display_name": "projetoTeste",
   "language": "python",
   "name": "projetoteste"
  },
  "language_info": {
   "codemirror_mode": {
    "name": "ipython",
    "version": 3
   },
   "file_extension": ".py",
   "mimetype": "text/x-python",
   "name": "python",
   "nbconvert_exporter": "python",
   "pygments_lexer": "ipython3",
   "version": "3.13.1"
  }
 },
 "nbformat": 4,
 "nbformat_minor": 5
}
