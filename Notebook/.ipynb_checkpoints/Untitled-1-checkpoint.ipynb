{
 "cells": [
  {
   "cell_type": "markdown",
   "id": "33f2dab3",
   "metadata": {},
   "source": [
    "# Testes iniciais dos dados obtidos da API\n",
    "\n",
    "## Como preparar o ambiente:\n",
    "\n",
    "### Máquina Virtual\n",
    "\n",
    "Windows:\n",
    "```\n",
    "python -m venv venv\n",
    "venv/Scripts/activate\n",
    "```\n",
    "\n",
    "Linux:\n",
    "```\n",
    "python3 -m venv venv\n",
    "source venv/bin/activate\n",
    "```\n",
    "\n",
    "Após essa etapa, vamos \n",
    "\n",
    "---\n",
    "\n",
    "### ipykernel\n",
    "\n",
    "Para usarmos o jupyter notebook com o VS-Code, precisamos do ipykernel instalado para que possa reconhecer o ambiente jupyter e torne possível o uso das células de execução.\n",
    "\n",
    "```pip install ipykernel```\n",
    "\n",
    "---\n",
    "\n",
    "### Criar um novo kernel\n",
    "\n",
    "Exemplo do kernel \"projetoTeste\" sendo criado\n",
    "\n",
    "Windows\n",
    "```\n",
    "python -m ipykernel install --user --name=projetoTeste\n",
    "```\n",
    "\n",
    "Linux:\n",
    "```\n",
    "python3 -m ipykernel install --user --name=projetoTeste\n",
    "```\n",
    "\n"
   ]
  },
  {
   "cell_type": "code",
   "execution_count": null,
   "id": "0a30dda4",
   "metadata": {},
   "outputs": [],
   "source": [
    "print(\"Teste\")"
   ]
  },
  {
   "cell_type": "code",
   "execution_count": null,
   "id": "90655a81",
   "metadata": {},
   "outputs": [],
   "source": []
  }
 ],
 "metadata": {
  "language_info": {
   "name": "python"
  }
 },
 "nbformat": 4,
 "nbformat_minor": 5
}
